{
 "cells": [
  {
   "cell_type": "code",
   "execution_count": 14,
   "metadata": {},
   "outputs": [
    {
     "name": "stderr",
     "output_type": "stream",
     "text": [
      "Using cache found in C:\\Users\\Nguyen Quang Huy/.cache\\torch\\hub\\ultralytics_yolov5_master\n",
      "YOLOv5  2024-3-6 Python-3.11.8 torch-2.1.2+cpu CPU\n",
      "\n",
      "Fusing layers... \n",
      "YOLOv5s summary: 213 layers, 7225885 parameters, 0 gradients, 16.4 GFLOPs\n",
      "Adding AutoShape... \n"
     ]
    }
   ],
   "source": [
    "import torch\n",
    "from PIL import Image\n",
    "import os\n",
    "import numpy as np\n",
    "import matplotlib.pyplot as plt\n",
    "from torchvision import transforms\n",
    "import cv2\n",
    "import time\n",
    "import argparse\n",
    "\n",
    "# Load yolov8s.pt from current directory\n",
    "model = torch.hub.load('ultralytics/yolov5', 'yolov5s', pretrained=True)\n",
    "\n",
    "# Pick a random image and make it though yolov5 moel and return it \n",
    "# Read image\n",
    "image_path = \"images\\Aloe_vera_5.jpg\"\n",
    "img = Image.open(image_path)\n",
    "img = np.array(img)\n",
    "# Perform inference\n",
    "results = model(img)\n",
    "# Get bounding box coordinates\n",
    "bboxes = results.xyxy[0].numpy()\n",
    "for bbox in bboxes:\n",
    "    xmin, ymin, xmax, ymax = bbox[:4]  # Unpack only the first four values\n",
    "    # Crop image based on bounding box coordinates\n",
    "    cropped_img = img[int(ymin):int(ymax), int(xmin):int(xmax)]\n",
    "    # Draw bounding box on the cropped image\n",
    "    cv2.rectangle(cropped_img, (int(xmin), int(ymin)), (int(xmax), int(ymax)), (0, 255, 0), 2)\n",
    "\n",
    "    # Display the cropped image with bounding box\n",
    "    plt.imshow(cropped_img)\n",
    "    plt.axis('on')\n",
    "    plt.show()\n",
    "    \n"
   ]
  }
 ],
 "metadata": {
  "kernelspec": {
   "display_name": "Python 3",
   "language": "python",
   "name": "python3"
  },
  "language_info": {
   "codemirror_mode": {
    "name": "ipython",
    "version": 3
   },
   "file_extension": ".py",
   "mimetype": "text/x-python",
   "name": "python",
   "nbconvert_exporter": "python",
   "pygments_lexer": "ipython3",
   "version": "3.11.8"
  }
 },
 "nbformat": 4,
 "nbformat_minor": 2
}
